{
 "cells": [
  {
   "cell_type": "code",
   "execution_count": 1,
   "metadata": {},
   "outputs": [],
   "source": [
    "%matplotlib inline\n",
    "import pandas as pd\n",
    "import numpy as np\n",
    "import matplotlib.pyplot as plt\n",
    "import seaborn as sns\n",
    "from scipy import stats\n",
    "from ast import literal_eval\n",
    "from sklearn.feature_extraction.text import TfidfVectorizer, CountVectorizer\n",
    "from sklearn.metrics.pairwise import linear_kernel, cosine_similarity\n",
    "from nltk.stem.snowball import SnowballStemmer\n",
    "from nltk.stem.wordnet import WordNetLemmatizer\n",
    "from nltk.corpus import wordnet\n",
    "#from surprise import Reader, Dataset, SVD, evaluate\n",
    "\n",
    "import warnings; warnings.simplefilter('ignore')"
   ]
  },
  {
   "cell_type": "code",
   "execution_count": 2,
   "metadata": {},
   "outputs": [],
   "source": [
    "md = pd.read_csv(\"the-movies-dataset/movies_metadata.csv\")"
   ]
  },
  {
   "cell_type": "code",
   "execution_count": 3,
   "metadata": {},
   "outputs": [],
   "source": [
    "md['genres'] = md['genres'].fillna('[]').apply(literal_eval).apply(lambda x: [i['name'] for i in x] if isinstance(x, list) else [])"
   ]
  },
  {
   "cell_type": "code",
   "execution_count": 4,
   "metadata": {},
   "outputs": [
    {
     "data": {
      "text/plain": [
       "5.244896612406511"
      ]
     },
     "execution_count": 4,
     "metadata": {},
     "output_type": "execute_result"
    }
   ],
   "source": [
    "vote_counts = md[md['vote_count'].notnull()]['vote_count'].astype('int')\n",
    "vote_averages = md[md['vote_average'].notnull()]['vote_average'].astype('int')\n",
    "C = vote_averages.mean()\n",
    "C"
   ]
  },
  {
   "cell_type": "code",
   "execution_count": 5,
   "metadata": {},
   "outputs": [
    {
     "data": {
      "text/plain": [
       "434.0"
      ]
     },
     "execution_count": 5,
     "metadata": {},
     "output_type": "execute_result"
    }
   ],
   "source": [
    "m = vote_counts.quantile(0.95)\n",
    "m"
   ]
  },
  {
   "cell_type": "code",
   "execution_count": 6,
   "metadata": {},
   "outputs": [
    {
     "data": {
      "text/plain": [
       "(2274, 6)"
      ]
     },
     "execution_count": 6,
     "metadata": {},
     "output_type": "execute_result"
    }
   ],
   "source": [
    "md['year'] = pd.to_datetime(md['release_date'], errors='coerce').apply(lambda x: str(x).split('-')[0] if x != np.nan else np.nan)\n",
    "\n",
    "qualified = md[(md['vote_count'] >= m) & (md['vote_count'].notnull()) & (md['vote_average'].notnull())][['title', 'vote_count', 'year', 'vote_average', 'popularity', 'genres']]\n",
    "qualified['vote_count'] = qualified['vote_count'].astype('int')\n",
    "qualified['vote_average'] = qualified['vote_average'].astype('int')\n",
    "qualified.shape"
   ]
  },
  {
   "cell_type": "code",
   "execution_count": 7,
   "metadata": {},
   "outputs": [
    {
     "data": {
      "text/plain": [
       "Index(['adult', 'belongs_to_collection', 'budget', 'genres', 'homepage', 'id',\n",
       "       'imdb_id', 'original_language', 'original_title', 'overview',\n",
       "       'popularity', 'poster_path', 'production_companies',\n",
       "       'production_countries', 'release_date', 'revenue', 'runtime',\n",
       "       'spoken_languages', 'status', 'tagline', 'title', 'video',\n",
       "       'vote_average', 'vote_count', 'year'],\n",
       "      dtype='object')"
      ]
     },
     "execution_count": 7,
     "metadata": {},
     "output_type": "execute_result"
    }
   ],
   "source": [
    "md.columns"
   ]
  },
  {
   "cell_type": "code",
   "execution_count": 8,
   "metadata": {},
   "outputs": [],
   "source": [
    "def weighted_rating(x):\n",
    "    v = x['vote_count']\n",
    "    R = x['vote_average']\n",
    "    return (v/(v+m) * R) + (m/(m+v) * C)"
   ]
  },
  {
   "cell_type": "code",
   "execution_count": 9,
   "metadata": {},
   "outputs": [],
   "source": [
    "qualified['wr'] = qualified.apply(weighted_rating, axis=1)"
   ]
  },
  {
   "cell_type": "code",
   "execution_count": 10,
   "metadata": {},
   "outputs": [],
   "source": [
    "links_small = pd.read_csv('the-movies-dataset/links_small.csv')\n",
    "links_small = links_small[links_small['tmdbId'].notnull()]['tmdbId'].astype('int')"
   ]
  },
  {
   "cell_type": "code",
   "execution_count": 11,
   "metadata": {},
   "outputs": [
    {
     "data": {
      "text/plain": [
       "(9099, 25)"
      ]
     },
     "execution_count": 11,
     "metadata": {},
     "output_type": "execute_result"
    }
   ],
   "source": [
    "md = md.drop([19730, 29503, 35587])\n",
    "md['id'] = md['id'].astype('int')\n",
    "smd = md[md['id'].isin(links_small)]\n",
    "smd.shape"
   ]
  },
  {
   "cell_type": "code",
   "execution_count": 12,
   "metadata": {},
   "outputs": [],
   "source": [
    "smd['wr'] = smd.apply(weighted_rating, axis = 1)"
   ]
  },
  {
   "cell_type": "code",
   "execution_count": 13,
   "metadata": {},
   "outputs": [
    {
     "data": {
      "text/html": [
       "<div>\n",
       "<style scoped>\n",
       "    .dataframe tbody tr th:only-of-type {\n",
       "        vertical-align: middle;\n",
       "    }\n",
       "\n",
       "    .dataframe tbody tr th {\n",
       "        vertical-align: top;\n",
       "    }\n",
       "\n",
       "    .dataframe thead th {\n",
       "        text-align: right;\n",
       "    }\n",
       "</style>\n",
       "<table border=\"1\" class=\"dataframe\">\n",
       "  <thead>\n",
       "    <tr style=\"text-align: right;\">\n",
       "      <th></th>\n",
       "      <th>adult</th>\n",
       "      <th>belongs_to_collection</th>\n",
       "      <th>budget</th>\n",
       "      <th>genres</th>\n",
       "      <th>homepage</th>\n",
       "      <th>id</th>\n",
       "      <th>imdb_id</th>\n",
       "      <th>original_language</th>\n",
       "      <th>original_title</th>\n",
       "      <th>overview</th>\n",
       "      <th>...</th>\n",
       "      <th>runtime</th>\n",
       "      <th>spoken_languages</th>\n",
       "      <th>status</th>\n",
       "      <th>tagline</th>\n",
       "      <th>title</th>\n",
       "      <th>video</th>\n",
       "      <th>vote_average</th>\n",
       "      <th>vote_count</th>\n",
       "      <th>year</th>\n",
       "      <th>wr</th>\n",
       "    </tr>\n",
       "  </thead>\n",
       "  <tbody>\n",
       "    <tr>\n",
       "      <th>314</th>\n",
       "      <td>False</td>\n",
       "      <td>NaN</td>\n",
       "      <td>25000000</td>\n",
       "      <td>[Drama, Crime]</td>\n",
       "      <td>NaN</td>\n",
       "      <td>278</td>\n",
       "      <td>tt0111161</td>\n",
       "      <td>en</td>\n",
       "      <td>The Shawshank Redemption</td>\n",
       "      <td>Framed in the 1940s for the double murder of h...</td>\n",
       "      <td>...</td>\n",
       "      <td>142.0</td>\n",
       "      <td>[{'iso_639_1': 'en', 'name': 'English'}]</td>\n",
       "      <td>Released</td>\n",
       "      <td>Fear can hold you prisoner. Hope can set you f...</td>\n",
       "      <td>The Shawshank Redemption</td>\n",
       "      <td>False</td>\n",
       "      <td>8.5</td>\n",
       "      <td>8358.0</td>\n",
       "      <td>1994</td>\n",
       "      <td>8.339318</td>\n",
       "    </tr>\n",
       "    <tr>\n",
       "      <th>834</th>\n",
       "      <td>False</td>\n",
       "      <td>{'id': 230, 'name': 'The Godfather Collection'...</td>\n",
       "      <td>6000000</td>\n",
       "      <td>[Drama, Crime]</td>\n",
       "      <td>http://www.thegodfather.com/</td>\n",
       "      <td>238</td>\n",
       "      <td>tt0068646</td>\n",
       "      <td>en</td>\n",
       "      <td>The Godfather</td>\n",
       "      <td>Spanning the years 1945 to 1955, a chronicle o...</td>\n",
       "      <td>...</td>\n",
       "      <td>175.0</td>\n",
       "      <td>[{'iso_639_1': 'en', 'name': 'English'}, {'iso...</td>\n",
       "      <td>Released</td>\n",
       "      <td>An offer you can't refuse.</td>\n",
       "      <td>The Godfather</td>\n",
       "      <td>False</td>\n",
       "      <td>8.5</td>\n",
       "      <td>6024.0</td>\n",
       "      <td>1972</td>\n",
       "      <td>8.281246</td>\n",
       "    </tr>\n",
       "    <tr>\n",
       "      <th>12481</th>\n",
       "      <td>False</td>\n",
       "      <td>{'id': 263, 'name': 'The Dark Knight Collectio...</td>\n",
       "      <td>185000000</td>\n",
       "      <td>[Drama, Action, Crime, Thriller]</td>\n",
       "      <td>http://thedarkknight.warnerbros.com/dvdsite/</td>\n",
       "      <td>155</td>\n",
       "      <td>tt0468569</td>\n",
       "      <td>en</td>\n",
       "      <td>The Dark Knight</td>\n",
       "      <td>Batman raises the stakes in his war on crime. ...</td>\n",
       "      <td>...</td>\n",
       "      <td>152.0</td>\n",
       "      <td>[{'iso_639_1': 'en', 'name': 'English'}, {'iso...</td>\n",
       "      <td>Released</td>\n",
       "      <td>Why So Serious?</td>\n",
       "      <td>The Dark Knight</td>\n",
       "      <td>False</td>\n",
       "      <td>8.3</td>\n",
       "      <td>12269.0</td>\n",
       "      <td>2008</td>\n",
       "      <td>8.195622</td>\n",
       "    </tr>\n",
       "    <tr>\n",
       "      <th>2843</th>\n",
       "      <td>False</td>\n",
       "      <td>NaN</td>\n",
       "      <td>63000000</td>\n",
       "      <td>[Drama]</td>\n",
       "      <td>http://www.foxmovies.com/movies/fight-club</td>\n",
       "      <td>550</td>\n",
       "      <td>tt0137523</td>\n",
       "      <td>en</td>\n",
       "      <td>Fight Club</td>\n",
       "      <td>A ticking-time-bomb insomniac and a slippery s...</td>\n",
       "      <td>...</td>\n",
       "      <td>139.0</td>\n",
       "      <td>[{'iso_639_1': 'en', 'name': 'English'}]</td>\n",
       "      <td>Released</td>\n",
       "      <td>Mischief. Mayhem. Soap.</td>\n",
       "      <td>Fight Club</td>\n",
       "      <td>False</td>\n",
       "      <td>8.3</td>\n",
       "      <td>9678.0</td>\n",
       "      <td>1999</td>\n",
       "      <td>8.168877</td>\n",
       "    </tr>\n",
       "    <tr>\n",
       "      <th>292</th>\n",
       "      <td>False</td>\n",
       "      <td>NaN</td>\n",
       "      <td>8000000</td>\n",
       "      <td>[Thriller, Crime]</td>\n",
       "      <td>NaN</td>\n",
       "      <td>680</td>\n",
       "      <td>tt0110912</td>\n",
       "      <td>en</td>\n",
       "      <td>Pulp Fiction</td>\n",
       "      <td>A burger-loving hit man, his philosophical par...</td>\n",
       "      <td>...</td>\n",
       "      <td>154.0</td>\n",
       "      <td>[{'iso_639_1': 'en', 'name': 'English'}, {'iso...</td>\n",
       "      <td>Released</td>\n",
       "      <td>Just because you are a character doesn't mean ...</td>\n",
       "      <td>Pulp Fiction</td>\n",
       "      <td>False</td>\n",
       "      <td>8.3</td>\n",
       "      <td>8670.0</td>\n",
       "      <td>1994</td>\n",
       "      <td>8.154359</td>\n",
       "    </tr>\n",
       "    <tr>\n",
       "      <th>351</th>\n",
       "      <td>False</td>\n",
       "      <td>NaN</td>\n",
       "      <td>55000000</td>\n",
       "      <td>[Comedy, Drama, Romance]</td>\n",
       "      <td>NaN</td>\n",
       "      <td>13</td>\n",
       "      <td>tt0109830</td>\n",
       "      <td>en</td>\n",
       "      <td>Forrest Gump</td>\n",
       "      <td>A man with a low IQ has accomplished great thi...</td>\n",
       "      <td>...</td>\n",
       "      <td>142.0</td>\n",
       "      <td>[{'iso_639_1': 'en', 'name': 'English'}]</td>\n",
       "      <td>Released</td>\n",
       "      <td>The world will never be the same, once you've ...</td>\n",
       "      <td>Forrest Gump</td>\n",
       "      <td>False</td>\n",
       "      <td>8.2</td>\n",
       "      <td>8147.0</td>\n",
       "      <td>1994</td>\n",
       "      <td>8.050540</td>\n",
       "    </tr>\n",
       "    <tr>\n",
       "      <th>522</th>\n",
       "      <td>False</td>\n",
       "      <td>NaN</td>\n",
       "      <td>22000000</td>\n",
       "      <td>[Drama, History, War]</td>\n",
       "      <td>http://www.schindlerslist.com/</td>\n",
       "      <td>424</td>\n",
       "      <td>tt0108052</td>\n",
       "      <td>en</td>\n",
       "      <td>Schindler's List</td>\n",
       "      <td>The true story of how businessman Oskar Schind...</td>\n",
       "      <td>...</td>\n",
       "      <td>195.0</td>\n",
       "      <td>[{'iso_639_1': 'de', 'name': 'Deutsch'}, {'iso...</td>\n",
       "      <td>Released</td>\n",
       "      <td>Whoever saves one life, saves the world entire.</td>\n",
       "      <td>Schindler's List</td>\n",
       "      <td>False</td>\n",
       "      <td>8.3</td>\n",
       "      <td>4436.0</td>\n",
       "      <td>1993</td>\n",
       "      <td>8.027738</td>\n",
       "    </tr>\n",
       "    <tr>\n",
       "      <th>23673</th>\n",
       "      <td>False</td>\n",
       "      <td>NaN</td>\n",
       "      <td>3300000</td>\n",
       "      <td>[Drama]</td>\n",
       "      <td>http://sonyclassics.com/whiplash/</td>\n",
       "      <td>244786</td>\n",
       "      <td>tt2582802</td>\n",
       "      <td>en</td>\n",
       "      <td>Whiplash</td>\n",
       "      <td>Under the direction of a ruthless instructor, ...</td>\n",
       "      <td>...</td>\n",
       "      <td>105.0</td>\n",
       "      <td>[{'iso_639_1': 'en', 'name': 'English'}]</td>\n",
       "      <td>Released</td>\n",
       "      <td>The road to greatness can take you to the edge.</td>\n",
       "      <td>Whiplash</td>\n",
       "      <td>False</td>\n",
       "      <td>8.3</td>\n",
       "      <td>4376.0</td>\n",
       "      <td>2014</td>\n",
       "      <td>8.024342</td>\n",
       "    </tr>\n",
       "    <tr>\n",
       "      <th>15480</th>\n",
       "      <td>False</td>\n",
       "      <td>NaN</td>\n",
       "      <td>160000000</td>\n",
       "      <td>[Action, Thriller, Science Fiction, Mystery, A...</td>\n",
       "      <td>http://inceptionmovie.warnerbros.com/</td>\n",
       "      <td>27205</td>\n",
       "      <td>tt1375666</td>\n",
       "      <td>en</td>\n",
       "      <td>Inception</td>\n",
       "      <td>Cobb, a skilled thief who commits corporate es...</td>\n",
       "      <td>...</td>\n",
       "      <td>148.0</td>\n",
       "      <td>[{'iso_639_1': 'en', 'name': 'English'}]</td>\n",
       "      <td>Released</td>\n",
       "      <td>Your mind is the scene of the crime.</td>\n",
       "      <td>Inception</td>\n",
       "      <td>False</td>\n",
       "      <td>8.1</td>\n",
       "      <td>14075.0</td>\n",
       "      <td>2010</td>\n",
       "      <td>8.014597</td>\n",
       "    </tr>\n",
       "    <tr>\n",
       "      <th>1154</th>\n",
       "      <td>False</td>\n",
       "      <td>{'id': 10, 'name': 'Star Wars Collection', 'po...</td>\n",
       "      <td>18000000</td>\n",
       "      <td>[Adventure, Action, Science Fiction]</td>\n",
       "      <td>http://www.starwars.com/films/star-wars-episod...</td>\n",
       "      <td>1891</td>\n",
       "      <td>tt0080684</td>\n",
       "      <td>en</td>\n",
       "      <td>The Empire Strikes Back</td>\n",
       "      <td>The epic saga continues as Luke Skywalker, in ...</td>\n",
       "      <td>...</td>\n",
       "      <td>124.0</td>\n",
       "      <td>[{'iso_639_1': 'en', 'name': 'English'}]</td>\n",
       "      <td>Released</td>\n",
       "      <td>The Adventure Continues...</td>\n",
       "      <td>The Empire Strikes Back</td>\n",
       "      <td>False</td>\n",
       "      <td>8.2</td>\n",
       "      <td>5998.0</td>\n",
       "      <td>1980</td>\n",
       "      <td>8.000604</td>\n",
       "    </tr>\n",
       "  </tbody>\n",
       "</table>\n",
       "<p>10 rows × 26 columns</p>\n",
       "</div>"
      ],
      "text/plain": [
       "       adult                              belongs_to_collection     budget  \\\n",
       "314    False                                                NaN   25000000   \n",
       "834    False  {'id': 230, 'name': 'The Godfather Collection'...    6000000   \n",
       "12481  False  {'id': 263, 'name': 'The Dark Knight Collectio...  185000000   \n",
       "2843   False                                                NaN   63000000   \n",
       "292    False                                                NaN    8000000   \n",
       "351    False                                                NaN   55000000   \n",
       "522    False                                                NaN   22000000   \n",
       "23673  False                                                NaN    3300000   \n",
       "15480  False                                                NaN  160000000   \n",
       "1154   False  {'id': 10, 'name': 'Star Wars Collection', 'po...   18000000   \n",
       "\n",
       "                                                  genres  \\\n",
       "314                                       [Drama, Crime]   \n",
       "834                                       [Drama, Crime]   \n",
       "12481                   [Drama, Action, Crime, Thriller]   \n",
       "2843                                             [Drama]   \n",
       "292                                    [Thriller, Crime]   \n",
       "351                             [Comedy, Drama, Romance]   \n",
       "522                                [Drama, History, War]   \n",
       "23673                                            [Drama]   \n",
       "15480  [Action, Thriller, Science Fiction, Mystery, A...   \n",
       "1154                [Adventure, Action, Science Fiction]   \n",
       "\n",
       "                                                homepage      id    imdb_id  \\\n",
       "314                                                  NaN     278  tt0111161   \n",
       "834                         http://www.thegodfather.com/     238  tt0068646   \n",
       "12481       http://thedarkknight.warnerbros.com/dvdsite/     155  tt0468569   \n",
       "2843          http://www.foxmovies.com/movies/fight-club     550  tt0137523   \n",
       "292                                                  NaN     680  tt0110912   \n",
       "351                                                  NaN      13  tt0109830   \n",
       "522                       http://www.schindlerslist.com/     424  tt0108052   \n",
       "23673                  http://sonyclassics.com/whiplash/  244786  tt2582802   \n",
       "15480              http://inceptionmovie.warnerbros.com/   27205  tt1375666   \n",
       "1154   http://www.starwars.com/films/star-wars-episod...    1891  tt0080684   \n",
       "\n",
       "      original_language            original_title  \\\n",
       "314                  en  The Shawshank Redemption   \n",
       "834                  en             The Godfather   \n",
       "12481                en           The Dark Knight   \n",
       "2843                 en                Fight Club   \n",
       "292                  en              Pulp Fiction   \n",
       "351                  en              Forrest Gump   \n",
       "522                  en          Schindler's List   \n",
       "23673                en                  Whiplash   \n",
       "15480                en                 Inception   \n",
       "1154                 en   The Empire Strikes Back   \n",
       "\n",
       "                                                overview    ...    runtime  \\\n",
       "314    Framed in the 1940s for the double murder of h...    ...      142.0   \n",
       "834    Spanning the years 1945 to 1955, a chronicle o...    ...      175.0   \n",
       "12481  Batman raises the stakes in his war on crime. ...    ...      152.0   \n",
       "2843   A ticking-time-bomb insomniac and a slippery s...    ...      139.0   \n",
       "292    A burger-loving hit man, his philosophical par...    ...      154.0   \n",
       "351    A man with a low IQ has accomplished great thi...    ...      142.0   \n",
       "522    The true story of how businessman Oskar Schind...    ...      195.0   \n",
       "23673  Under the direction of a ruthless instructor, ...    ...      105.0   \n",
       "15480  Cobb, a skilled thief who commits corporate es...    ...      148.0   \n",
       "1154   The epic saga continues as Luke Skywalker, in ...    ...      124.0   \n",
       "\n",
       "                                        spoken_languages    status  \\\n",
       "314             [{'iso_639_1': 'en', 'name': 'English'}]  Released   \n",
       "834    [{'iso_639_1': 'en', 'name': 'English'}, {'iso...  Released   \n",
       "12481  [{'iso_639_1': 'en', 'name': 'English'}, {'iso...  Released   \n",
       "2843            [{'iso_639_1': 'en', 'name': 'English'}]  Released   \n",
       "292    [{'iso_639_1': 'en', 'name': 'English'}, {'iso...  Released   \n",
       "351             [{'iso_639_1': 'en', 'name': 'English'}]  Released   \n",
       "522    [{'iso_639_1': 'de', 'name': 'Deutsch'}, {'iso...  Released   \n",
       "23673           [{'iso_639_1': 'en', 'name': 'English'}]  Released   \n",
       "15480           [{'iso_639_1': 'en', 'name': 'English'}]  Released   \n",
       "1154            [{'iso_639_1': 'en', 'name': 'English'}]  Released   \n",
       "\n",
       "                                                 tagline  \\\n",
       "314    Fear can hold you prisoner. Hope can set you f...   \n",
       "834                           An offer you can't refuse.   \n",
       "12481                                    Why So Serious?   \n",
       "2843                             Mischief. Mayhem. Soap.   \n",
       "292    Just because you are a character doesn't mean ...   \n",
       "351    The world will never be the same, once you've ...   \n",
       "522      Whoever saves one life, saves the world entire.   \n",
       "23673    The road to greatness can take you to the edge.   \n",
       "15480               Your mind is the scene of the crime.   \n",
       "1154                          The Adventure Continues...   \n",
       "\n",
       "                          title  video  vote_average vote_count  year  \\\n",
       "314    The Shawshank Redemption  False           8.5     8358.0  1994   \n",
       "834               The Godfather  False           8.5     6024.0  1972   \n",
       "12481           The Dark Knight  False           8.3    12269.0  2008   \n",
       "2843                 Fight Club  False           8.3     9678.0  1999   \n",
       "292                Pulp Fiction  False           8.3     8670.0  1994   \n",
       "351                Forrest Gump  False           8.2     8147.0  1994   \n",
       "522            Schindler's List  False           8.3     4436.0  1993   \n",
       "23673                  Whiplash  False           8.3     4376.0  2014   \n",
       "15480                 Inception  False           8.1    14075.0  2010   \n",
       "1154    The Empire Strikes Back  False           8.2     5998.0  1980   \n",
       "\n",
       "             wr  \n",
       "314    8.339318  \n",
       "834    8.281246  \n",
       "12481  8.195622  \n",
       "2843   8.168877  \n",
       "292    8.154359  \n",
       "351    8.050540  \n",
       "522    8.027738  \n",
       "23673  8.024342  \n",
       "15480  8.014597  \n",
       "1154   8.000604  \n",
       "\n",
       "[10 rows x 26 columns]"
      ]
     },
     "execution_count": 13,
     "metadata": {},
     "output_type": "execute_result"
    }
   ],
   "source": [
    "smd.sort_values('wr', ascending = False).head(10)"
   ]
  },
  {
   "cell_type": "code",
   "execution_count": 14,
   "metadata": {},
   "outputs": [],
   "source": [
    "credits = pd.read_csv('the-movies-dataset/credits.csv')\n",
    "keywords = pd.read_csv('the-movies-dataset/keywords.csv')\n",
    "\n"
   ]
  },
  {
   "cell_type": "code",
   "execution_count": 15,
   "metadata": {},
   "outputs": [],
   "source": [
    "keywords['id'] = keywords['id'].astype('int')\n",
    "credits['id'] = credits['id'].astype('int')\n",
    "md['id'] = md['id'].astype('int')"
   ]
  },
  {
   "cell_type": "code",
   "execution_count": 16,
   "metadata": {},
   "outputs": [],
   "source": [
    "md = md.merge(credits, on='id')\n",
    "md = md.merge(keywords, on='id')"
   ]
  },
  {
   "cell_type": "code",
   "execution_count": 17,
   "metadata": {},
   "outputs": [
    {
     "data": {
      "text/plain": [
       "(9219, 28)"
      ]
     },
     "execution_count": 17,
     "metadata": {},
     "output_type": "execute_result"
    }
   ],
   "source": [
    "smd = md[md['id'].isin(links_small)]\n",
    "smd.shape"
   ]
  },
  {
   "cell_type": "code",
   "execution_count": 18,
   "metadata": {},
   "outputs": [],
   "source": [
    "smd['cast'] = smd['cast'].apply(literal_eval)\n",
    "smd['crew'] = smd['crew'].apply(literal_eval)\n",
    "smd['keywords'] = smd['keywords'].apply(literal_eval)"
   ]
  },
  {
   "cell_type": "code",
   "execution_count": 19,
   "metadata": {},
   "outputs": [],
   "source": [
    "def get_director(x):\n",
    "    for i in x:\n",
    "        if i['job'] == 'Director':\n",
    "            return i['name']\n",
    "    return np.nan"
   ]
  },
  {
   "cell_type": "code",
   "execution_count": 20,
   "metadata": {},
   "outputs": [],
   "source": [
    "smd['director'] = smd['crew'].apply(get_director)\n",
    "smd['cast'] = smd['cast'].apply(lambda x: [i['name'] for i in x] if isinstance(x, list) else [])\n",
    "smd['cast'] = smd['cast'].apply(lambda x: x[:3] if len(x) >=3 else x)\n",
    "smd['keywords'] = smd['keywords'].apply(lambda x: [i['name'] for i in x] if isinstance(x, list) else [])"
   ]
  },
  {
   "cell_type": "code",
   "execution_count": 21,
   "metadata": {},
   "outputs": [],
   "source": [
    "smd['cast'] = smd['cast'].apply(lambda x: [str.lower(i.replace(\" \", \"\")) for i in x])\n",
    "\n",
    "s = smd.apply(lambda x: pd.Series(x['keywords']),axis=1).stack().reset_index(level=1, drop=True)\n",
    "s.name = 'keyword'"
   ]
  },
  {
   "cell_type": "code",
   "execution_count": 22,
   "metadata": {},
   "outputs": [
    {
     "data": {
      "text/plain": [
       "independent film        610\n",
       "woman director          550\n",
       "murder                  399\n",
       "duringcreditsstinger    327\n",
       "based on novel          318\n",
       "Name: keyword, dtype: int64"
      ]
     },
     "execution_count": 22,
     "metadata": {},
     "output_type": "execute_result"
    }
   ],
   "source": [
    "s = s.value_counts()\n",
    "s[:5]"
   ]
  },
  {
   "cell_type": "code",
   "execution_count": 23,
   "metadata": {},
   "outputs": [],
   "source": [
    "s = s[s > 1]"
   ]
  },
  {
   "cell_type": "code",
   "execution_count": 24,
   "metadata": {},
   "outputs": [
    {
     "data": {
      "text/plain": [
       "' fuck'"
      ]
     },
     "execution_count": 24,
     "metadata": {},
     "output_type": "execute_result"
    }
   ],
   "source": [
    "stemmer = SnowballStemmer('english')\n",
    "stemmer.stem(' fucks')"
   ]
  },
  {
   "cell_type": "code",
   "execution_count": 25,
   "metadata": {},
   "outputs": [],
   "source": [
    "def filter_keywords(x):\n",
    "    words = []\n",
    "    for i in x:\n",
    "        if i in s:\n",
    "            words.append(i)\n",
    "    return words"
   ]
  },
  {
   "cell_type": "code",
   "execution_count": 26,
   "metadata": {},
   "outputs": [],
   "source": [
    "smd['keywords'] = smd['keywords'].apply(filter_keywords)\n",
    "smd['keywords'] = smd['keywords'].apply(lambda x: [stemmer.stem(i) for i in x])\n",
    "smd['keywords'] = smd['keywords'].apply(lambda x: [str.lower(i.replace(\" \", \"\")) for i in x])"
   ]
  },
  {
   "cell_type": "code",
   "execution_count": 27,
   "metadata": {},
   "outputs": [],
   "source": [
    "smd['keywords'] = smd['keywords']  + smd['cast'] + smd['genres'] + smd['genres']"
   ]
  },
  {
   "cell_type": "code",
   "execution_count": 28,
   "metadata": {},
   "outputs": [],
   "source": [
    "smd['director'] = smd['director'].apply(lambda x: [x])"
   ]
  },
  {
   "cell_type": "code",
   "execution_count": 29,
   "metadata": {},
   "outputs": [],
   "source": [
    "smd['keywords'] = smd['keywords'] + smd['director'] + smd['cast']"
   ]
  },
  {
   "cell_type": "code",
   "execution_count": null,
   "metadata": {},
   "outputs": [],
   "source": []
  },
  {
   "cell_type": "code",
   "execution_count": 30,
   "metadata": {},
   "outputs": [
    {
     "data": {
      "text/plain": [
       "['tomhanks', 'timallen', 'donrickles']"
      ]
     },
     "execution_count": 30,
     "metadata": {},
     "output_type": "execute_result"
    }
   ],
   "source": [
    "smd['cast'][0]"
   ]
  },
  {
   "cell_type": "code",
   "execution_count": 31,
   "metadata": {},
   "outputs": [],
   "source": [
    "def list_to_str(x):\n",
    "    list1 = x\n",
    "    str1 = ''.join(str(e)+\" \" for e in list1)\n",
    "    return str1"
   ]
  },
  {
   "cell_type": "code",
   "execution_count": 32,
   "metadata": {},
   "outputs": [],
   "source": [
    "smd['soup'] = smd['keywords'].apply(list_to_str)"
   ]
  },
  {
   "cell_type": "code",
   "execution_count": 33,
   "metadata": {},
   "outputs": [
    {
     "data": {
      "text/plain": [
       "0        jealousi toy boy friendship friend rivalri boy...\n",
       "1        boardgam disappear basedonchildren'sbook newho...\n",
       "2        fish bestfriend duringcreditssting waltermatth...\n",
       "3        basedonnovel interracialrelationship singlemot...\n",
       "4        babi midlifecrisi confid age daughter motherda...\n",
       "5        robberi detect bank obsess chase shoot thief h...\n",
       "6        pari brotherbrotherrelationship chauffeur long...\n",
       "7        jonathantaylorthomas bradrenfro rachaelleighco...\n",
       "8        terrorist hostag explos vicepresid jean-claude...\n",
       "9        cuba falselyaccus secretident computervirus se...\n",
       "10       whitehous usapresid newlov widow michaeldougla...\n",
       "11       dracula spoof leslienielsen melbrooks amyyasbe...\n",
       "12       wolf alaska dog goos bearattack kevinbacon bob...\n",
       "13       usapresid presidentialelect watergatescand bio...\n",
       "14       exoticisland treasur map ship scalp pirat geen...\n",
       "15       poker drugabus 1970s overdos illegalprostitut ...\n",
       "16       bowl basedonnovel servant countrylif janeauste...\n",
       "17       hotel newyear'sev witch bet hotelroom sperm lo...\n",
       "18       africa indigen humananimalrelationship bat jim...\n",
       "19       brotherbrotherrelationship subway newyorkc new...\n",
       "20       gambl miami basedonnovel job murder travel maf...\n",
       "21       policebrut psycholog policeoper policeprotect ...\n",
       "22       competit assassin cia bank cat mexicanstandoff...\n",
       "23       deadanim shottodeath teenageboy heldatgunpoint...\n",
       "24       individu prostitut alcohol casino loveatfirsts...\n",
       "25       shakespear jealousi friend laurencefishburne i...\n",
       "26       1970s femalefriendship comingofag gynecologist...\n",
       "27       captain napoleonicwar oldflam amandaroot ciará...\n",
       "28       clone dream island eye dystopia age friendship...\n",
       "29       servant cabaret shanghai diva uncl mistress um...\n",
       "                               ...                        \n",
       "39963    dystopia cyberpunk robot vanessakirby thurelin...\n",
       "40019    londonengland china magic secretsocieti vigila...\n",
       "40153    zombi roxannaaugesen rockyduvall michaelst.mic...\n",
       "40206    brotherbrotherrelationship turtl sequel basedo...\n",
       "40231    popstar musician recordalbum famous andysamber...\n",
       "40265    londonengland england 1970s spirit singlemoth ...\n",
       "40286    mar spacetravel spacemiss space markstrong luk...\n",
       "40317    femalefriendship reboot ghost melissamccarthy ...\n",
       "40392    spi cia espionag highschoolreunion account dwa...\n",
       "40455    assassin amnesia flashback mattdamon aliciavik...\n",
       "40456    paulagarcés annabellasciorra billcamp Thriller...\n",
       "40499    africa feralchild tarzan jungl animalattack al...\n",
       "40500    dystopia sequel elizabethmitchell frankgrillo ...\n",
       "40501    hawaii wed weddingd zacefron adamdevine annake...\n",
       "40512                                       Jonathan Hock \n",
       "40528    gay babi van paint money theft booksign readin...\n",
       "40554    bird fear short Family Animation Family Animat...\n",
       "40631    basedonnovel technolog internet hack teenag ne...\n",
       "40688    biographi crime womandirector Documentary Docu...\n",
       "40717    experimentalfilm thomasmiddleditch humphreyker...\n",
       "40787    lauraalbert brucebenderson denniscooper Docume...\n",
       "40831    desper texa bankrobb brother shoot carsetonfir...\n",
       "40837    fight cgi basedonvideogam warrior anim goayano...\n",
       "40920    mansion helenrogers alexandraturshen laurenmol...\n",
       "40939    sharkattack sequel farc lasvega creaturefeatur...\n",
       "40952    friendship sidneypoitier wendycrewson jayo.san...\n",
       "41172    bollywood akshaykumar ileanad'cruz eshagupta T...\n",
       "41225    bollywood hrithikroshan poojahegde kabirbedi A...\n",
       "41391    monster godzilla giantmonst destruct kaiju hir...\n",
       "41669    music documentari paulmccartney ringostarr joh...\n",
       "Name: soup, Length: 9219, dtype: object"
      ]
     },
     "execution_count": 33,
     "metadata": {},
     "output_type": "execute_result"
    }
   ],
   "source": [
    "smd['soup']"
   ]
  },
  {
   "cell_type": "code",
   "execution_count": 34,
   "metadata": {},
   "outputs": [
    {
     "data": {
      "text/plain": [
       "'123'"
      ]
     },
     "execution_count": 34,
     "metadata": {},
     "output_type": "execute_result"
    }
   ],
   "source": [
    "list1 = [1, 2, 3]\n",
    "str1 = ''.join(str(e) for e in list1)\n",
    "str1"
   ]
  },
  {
   "cell_type": "code",
   "execution_count": 35,
   "metadata": {},
   "outputs": [],
   "source": [
    "count = CountVectorizer(analyzer='word',ngram_range=(1, 2),min_df=0, stop_words='english')\n",
    "count_matrix = count.fit_transform(smd['soup'])"
   ]
  },
  {
   "cell_type": "code",
   "execution_count": null,
   "metadata": {},
   "outputs": [],
   "source": [
    "cosine_sim = cosine_similarity(count_matrix, count_matrix)"
   ]
  },
  {
   "cell_type": "code",
   "execution_count": 85,
   "metadata": {},
   "outputs": [],
   "source": [
    "smd = smd.reset_index()\n",
    "titles = smd['title']\n",
    "indices = pd.Series(smd.index, index=smd['title'])"
   ]
  },
  {
   "cell_type": "code",
   "execution_count": 86,
   "metadata": {},
   "outputs": [],
   "source": [
    "def get_recommendations(title):\n",
    "    idx = indices[title]\n",
    "    sim_scores = list(enumerate(cosine_sim[idx]))\n",
    "    sim_scores = sorted(sim_scores, key=lambda x: x[1], reverse=True)\n",
    "    sim_scores = sim_scores[1:31]\n",
    "    movie_indices = [i[0] for i in sim_scores]\n",
    "    return titles.iloc[movie_indices]"
   ]
  },
  {
   "cell_type": "code",
   "execution_count": 87,
   "metadata": {},
   "outputs": [
    {
     "data": {
      "text/plain": [
       "8031         The Dark Knight Rises\n",
       "6218                 Batman Begins\n",
       "7659    Batman: Under the Red Hood\n",
       "8927       Kidnapping Mr. Heineken\n",
       "1134                Batman Returns\n",
       "5943                      Thursday\n",
       "6623                  The Prestige\n",
       "1260                Batman & Robin\n",
       "2560                 Boiling Point\n",
       "3597                    Off Limits\n",
       "Name: title, dtype: object"
      ]
     },
     "execution_count": 87,
     "metadata": {},
     "output_type": "execute_result"
    }
   ],
   "source": [
    "get_recommendations('The Dark Knight').head(10)"
   ]
  },
  {
   "cell_type": "code",
   "execution_count": 88,
   "metadata": {},
   "outputs": [
    {
     "data": {
      "text/plain": [
       "Index(['index', 'adult', 'belongs_to_collection', 'budget', 'genres',\n",
       "       'homepage', 'id', 'imdb_id', 'original_language', 'original_title',\n",
       "       'overview', 'popularity', 'poster_path', 'production_companies',\n",
       "       'production_countries', 'release_date', 'revenue', 'runtime',\n",
       "       'spoken_languages', 'status', 'tagline', 'title', 'video',\n",
       "       'vote_average', 'vote_count', 'year', 'cast', 'crew', 'keywords',\n",
       "       'director', 'soup'],\n",
       "      dtype='object')"
      ]
     },
     "execution_count": 88,
     "metadata": {},
     "output_type": "execute_result"
    }
   ],
   "source": [
    "smd.columns"
   ]
  },
  {
   "cell_type": "code",
   "execution_count": 92,
   "metadata": {},
   "outputs": [],
   "source": [
    "smd = smd.drop([ 'adult', 'belongs_to_collection', 'budget', 'genres',\n",
    "       'homepage', 'imdb_id', 'original_language', 'original_title',\n",
    "       'overview', 'popularity', 'poster_path', 'production_companies',\n",
    "       'production_countries', 'release_date', 'revenue', 'runtime',\n",
    "       'spoken_languages', 'status', 'tagline', 'video', 'year', 'cast', 'crew', 'keywords',\n",
    "       'director', 'soup'], axis = 1)"
   ]
  },
  {
   "cell_type": "code",
   "execution_count": 93,
   "metadata": {},
   "outputs": [],
   "source": [
    "smd.to_csv(\"perc3.csv\")"
   ]
  },
  {
   "cell_type": "code",
   "execution_count": 94,
   "metadata": {},
   "outputs": [
    {
     "data": {
      "text/html": [
       "<div>\n",
       "<style scoped>\n",
       "    .dataframe tbody tr th:only-of-type {\n",
       "        vertical-align: middle;\n",
       "    }\n",
       "\n",
       "    .dataframe tbody tr th {\n",
       "        vertical-align: top;\n",
       "    }\n",
       "\n",
       "    .dataframe thead th {\n",
       "        text-align: right;\n",
       "    }\n",
       "</style>\n",
       "<table border=\"1\" class=\"dataframe\">\n",
       "  <thead>\n",
       "    <tr style=\"text-align: right;\">\n",
       "      <th></th>\n",
       "      <th>index</th>\n",
       "      <th>id</th>\n",
       "      <th>title</th>\n",
       "    </tr>\n",
       "  </thead>\n",
       "  <tbody>\n",
       "    <tr>\n",
       "      <th>0</th>\n",
       "      <td>0</td>\n",
       "      <td>862</td>\n",
       "      <td>Toy Story</td>\n",
       "    </tr>\n",
       "    <tr>\n",
       "      <th>1</th>\n",
       "      <td>1</td>\n",
       "      <td>8844</td>\n",
       "      <td>Jumanji</td>\n",
       "    </tr>\n",
       "    <tr>\n",
       "      <th>2</th>\n",
       "      <td>2</td>\n",
       "      <td>15602</td>\n",
       "      <td>Grumpier Old Men</td>\n",
       "    </tr>\n",
       "    <tr>\n",
       "      <th>3</th>\n",
       "      <td>3</td>\n",
       "      <td>31357</td>\n",
       "      <td>Waiting to Exhale</td>\n",
       "    </tr>\n",
       "    <tr>\n",
       "      <th>4</th>\n",
       "      <td>4</td>\n",
       "      <td>11862</td>\n",
       "      <td>Father of the Bride Part II</td>\n",
       "    </tr>\n",
       "    <tr>\n",
       "      <th>5</th>\n",
       "      <td>5</td>\n",
       "      <td>949</td>\n",
       "      <td>Heat</td>\n",
       "    </tr>\n",
       "    <tr>\n",
       "      <th>6</th>\n",
       "      <td>6</td>\n",
       "      <td>11860</td>\n",
       "      <td>Sabrina</td>\n",
       "    </tr>\n",
       "    <tr>\n",
       "      <th>7</th>\n",
       "      <td>7</td>\n",
       "      <td>45325</td>\n",
       "      <td>Tom and Huck</td>\n",
       "    </tr>\n",
       "    <tr>\n",
       "      <th>8</th>\n",
       "      <td>8</td>\n",
       "      <td>9091</td>\n",
       "      <td>Sudden Death</td>\n",
       "    </tr>\n",
       "    <tr>\n",
       "      <th>9</th>\n",
       "      <td>9</td>\n",
       "      <td>710</td>\n",
       "      <td>GoldenEye</td>\n",
       "    </tr>\n",
       "    <tr>\n",
       "      <th>10</th>\n",
       "      <td>10</td>\n",
       "      <td>9087</td>\n",
       "      <td>The American President</td>\n",
       "    </tr>\n",
       "    <tr>\n",
       "      <th>11</th>\n",
       "      <td>11</td>\n",
       "      <td>12110</td>\n",
       "      <td>Dracula: Dead and Loving It</td>\n",
       "    </tr>\n",
       "    <tr>\n",
       "      <th>12</th>\n",
       "      <td>12</td>\n",
       "      <td>21032</td>\n",
       "      <td>Balto</td>\n",
       "    </tr>\n",
       "    <tr>\n",
       "      <th>13</th>\n",
       "      <td>13</td>\n",
       "      <td>10858</td>\n",
       "      <td>Nixon</td>\n",
       "    </tr>\n",
       "    <tr>\n",
       "      <th>14</th>\n",
       "      <td>14</td>\n",
       "      <td>1408</td>\n",
       "      <td>Cutthroat Island</td>\n",
       "    </tr>\n",
       "    <tr>\n",
       "      <th>15</th>\n",
       "      <td>15</td>\n",
       "      <td>524</td>\n",
       "      <td>Casino</td>\n",
       "    </tr>\n",
       "    <tr>\n",
       "      <th>16</th>\n",
       "      <td>16</td>\n",
       "      <td>4584</td>\n",
       "      <td>Sense and Sensibility</td>\n",
       "    </tr>\n",
       "    <tr>\n",
       "      <th>17</th>\n",
       "      <td>17</td>\n",
       "      <td>5</td>\n",
       "      <td>Four Rooms</td>\n",
       "    </tr>\n",
       "    <tr>\n",
       "      <th>18</th>\n",
       "      <td>18</td>\n",
       "      <td>9273</td>\n",
       "      <td>Ace Ventura: When Nature Calls</td>\n",
       "    </tr>\n",
       "    <tr>\n",
       "      <th>19</th>\n",
       "      <td>19</td>\n",
       "      <td>11517</td>\n",
       "      <td>Money Train</td>\n",
       "    </tr>\n",
       "    <tr>\n",
       "      <th>20</th>\n",
       "      <td>20</td>\n",
       "      <td>8012</td>\n",
       "      <td>Get Shorty</td>\n",
       "    </tr>\n",
       "    <tr>\n",
       "      <th>21</th>\n",
       "      <td>21</td>\n",
       "      <td>1710</td>\n",
       "      <td>Copycat</td>\n",
       "    </tr>\n",
       "    <tr>\n",
       "      <th>22</th>\n",
       "      <td>22</td>\n",
       "      <td>9691</td>\n",
       "      <td>Assassins</td>\n",
       "    </tr>\n",
       "    <tr>\n",
       "      <th>23</th>\n",
       "      <td>23</td>\n",
       "      <td>12665</td>\n",
       "      <td>Powder</td>\n",
       "    </tr>\n",
       "    <tr>\n",
       "      <th>24</th>\n",
       "      <td>24</td>\n",
       "      <td>451</td>\n",
       "      <td>Leaving Las Vegas</td>\n",
       "    </tr>\n",
       "    <tr>\n",
       "      <th>25</th>\n",
       "      <td>25</td>\n",
       "      <td>16420</td>\n",
       "      <td>Othello</td>\n",
       "    </tr>\n",
       "    <tr>\n",
       "      <th>26</th>\n",
       "      <td>26</td>\n",
       "      <td>9263</td>\n",
       "      <td>Now and Then</td>\n",
       "    </tr>\n",
       "    <tr>\n",
       "      <th>27</th>\n",
       "      <td>27</td>\n",
       "      <td>17015</td>\n",
       "      <td>Persuasion</td>\n",
       "    </tr>\n",
       "    <tr>\n",
       "      <th>28</th>\n",
       "      <td>28</td>\n",
       "      <td>902</td>\n",
       "      <td>The City of Lost Children</td>\n",
       "    </tr>\n",
       "    <tr>\n",
       "      <th>29</th>\n",
       "      <td>29</td>\n",
       "      <td>37557</td>\n",
       "      <td>Shanghai Triad</td>\n",
       "    </tr>\n",
       "    <tr>\n",
       "      <th>...</th>\n",
       "      <td>...</td>\n",
       "      <td>...</td>\n",
       "      <td>...</td>\n",
       "    </tr>\n",
       "    <tr>\n",
       "      <th>9189</th>\n",
       "      <td>39963</td>\n",
       "      <td>384798</td>\n",
       "      <td>Kill Command</td>\n",
       "    </tr>\n",
       "    <tr>\n",
       "      <th>9190</th>\n",
       "      <td>40019</td>\n",
       "      <td>291805</td>\n",
       "      <td>Now You See Me 2</td>\n",
       "    </tr>\n",
       "    <tr>\n",
       "      <th>9191</th>\n",
       "      <td>40153</td>\n",
       "      <td>26677</td>\n",
       "      <td>The Video Dead</td>\n",
       "    </tr>\n",
       "    <tr>\n",
       "      <th>9192</th>\n",
       "      <td>40206</td>\n",
       "      <td>308531</td>\n",
       "      <td>Teenage Mutant Ninja Turtles: Out of the Shadows</td>\n",
       "    </tr>\n",
       "    <tr>\n",
       "      <th>9193</th>\n",
       "      <td>40231</td>\n",
       "      <td>341012</td>\n",
       "      <td>Popstar: Never Stop Never Stopping</td>\n",
       "    </tr>\n",
       "    <tr>\n",
       "      <th>9194</th>\n",
       "      <td>40265</td>\n",
       "      <td>259693</td>\n",
       "      <td>The Conjuring 2</td>\n",
       "    </tr>\n",
       "    <tr>\n",
       "      <th>9195</th>\n",
       "      <td>40286</td>\n",
       "      <td>328429</td>\n",
       "      <td>Approaching the Unknown</td>\n",
       "    </tr>\n",
       "    <tr>\n",
       "      <th>9196</th>\n",
       "      <td>40317</td>\n",
       "      <td>43074</td>\n",
       "      <td>Ghostbusters</td>\n",
       "    </tr>\n",
       "    <tr>\n",
       "      <th>9197</th>\n",
       "      <td>40392</td>\n",
       "      <td>302699</td>\n",
       "      <td>Central Intelligence</td>\n",
       "    </tr>\n",
       "    <tr>\n",
       "      <th>9198</th>\n",
       "      <td>40455</td>\n",
       "      <td>324668</td>\n",
       "      <td>Jason Bourne</td>\n",
       "    </tr>\n",
       "    <tr>\n",
       "      <th>9199</th>\n",
       "      <td>40456</td>\n",
       "      <td>278348</td>\n",
       "      <td>The Maid's Room</td>\n",
       "    </tr>\n",
       "    <tr>\n",
       "      <th>9200</th>\n",
       "      <td>40499</td>\n",
       "      <td>258489</td>\n",
       "      <td>The Legend of Tarzan</td>\n",
       "    </tr>\n",
       "    <tr>\n",
       "      <th>9201</th>\n",
       "      <td>40500</td>\n",
       "      <td>316727</td>\n",
       "      <td>The Purge: Election Year</td>\n",
       "    </tr>\n",
       "    <tr>\n",
       "      <th>9202</th>\n",
       "      <td>40501</td>\n",
       "      <td>316023</td>\n",
       "      <td>Mike and Dave Need Wedding Dates</td>\n",
       "    </tr>\n",
       "    <tr>\n",
       "      <th>9203</th>\n",
       "      <td>40512</td>\n",
       "      <td>177869</td>\n",
       "      <td>Survive and Advance</td>\n",
       "    </tr>\n",
       "    <tr>\n",
       "      <th>9204</th>\n",
       "      <td>40528</td>\n",
       "      <td>353571</td>\n",
       "      <td>Tallulah</td>\n",
       "    </tr>\n",
       "    <tr>\n",
       "      <th>9205</th>\n",
       "      <td>40554</td>\n",
       "      <td>399106</td>\n",
       "      <td>Piper</td>\n",
       "    </tr>\n",
       "    <tr>\n",
       "      <th>9206</th>\n",
       "      <td>40631</td>\n",
       "      <td>328387</td>\n",
       "      <td>Nerve</td>\n",
       "    </tr>\n",
       "    <tr>\n",
       "      <th>9207</th>\n",
       "      <td>40688</td>\n",
       "      <td>368620</td>\n",
       "      <td>My Friend Rockefeller</td>\n",
       "    </tr>\n",
       "    <tr>\n",
       "      <th>9208</th>\n",
       "      <td>40717</td>\n",
       "      <td>401387</td>\n",
       "      <td>Sunspring</td>\n",
       "    </tr>\n",
       "    <tr>\n",
       "      <th>9209</th>\n",
       "      <td>40787</td>\n",
       "      <td>373348</td>\n",
       "      <td>Author: The JT LeRoy Story</td>\n",
       "    </tr>\n",
       "    <tr>\n",
       "      <th>9210</th>\n",
       "      <td>40831</td>\n",
       "      <td>338766</td>\n",
       "      <td>Hell or High Water</td>\n",
       "    </tr>\n",
       "    <tr>\n",
       "      <th>9211</th>\n",
       "      <td>40837</td>\n",
       "      <td>390734</td>\n",
       "      <td>Kingsglaive: Final Fantasy XV</td>\n",
       "    </tr>\n",
       "    <tr>\n",
       "      <th>9212</th>\n",
       "      <td>40920</td>\n",
       "      <td>314420</td>\n",
       "      <td>Body</td>\n",
       "    </tr>\n",
       "    <tr>\n",
       "      <th>9213</th>\n",
       "      <td>40939</td>\n",
       "      <td>390989</td>\n",
       "      <td>Sharknado 4: The 4th Awakens</td>\n",
       "    </tr>\n",
       "    <tr>\n",
       "      <th>9214</th>\n",
       "      <td>40952</td>\n",
       "      <td>159550</td>\n",
       "      <td>The Last Brickmaker in America</td>\n",
       "    </tr>\n",
       "    <tr>\n",
       "      <th>9215</th>\n",
       "      <td>41172</td>\n",
       "      <td>392572</td>\n",
       "      <td>Rustom</td>\n",
       "    </tr>\n",
       "    <tr>\n",
       "      <th>9216</th>\n",
       "      <td>41225</td>\n",
       "      <td>402672</td>\n",
       "      <td>Mohenjo Daro</td>\n",
       "    </tr>\n",
       "    <tr>\n",
       "      <th>9217</th>\n",
       "      <td>41391</td>\n",
       "      <td>315011</td>\n",
       "      <td>Shin Godzilla</td>\n",
       "    </tr>\n",
       "    <tr>\n",
       "      <th>9218</th>\n",
       "      <td>41669</td>\n",
       "      <td>391698</td>\n",
       "      <td>The Beatles: Eight Days a Week - The Touring Y...</td>\n",
       "    </tr>\n",
       "  </tbody>\n",
       "</table>\n",
       "<p>9219 rows × 3 columns</p>\n",
       "</div>"
      ],
      "text/plain": [
       "      index      id                                              title\n",
       "0         0     862                                          Toy Story\n",
       "1         1    8844                                            Jumanji\n",
       "2         2   15602                                   Grumpier Old Men\n",
       "3         3   31357                                  Waiting to Exhale\n",
       "4         4   11862                        Father of the Bride Part II\n",
       "5         5     949                                               Heat\n",
       "6         6   11860                                            Sabrina\n",
       "7         7   45325                                       Tom and Huck\n",
       "8         8    9091                                       Sudden Death\n",
       "9         9     710                                          GoldenEye\n",
       "10       10    9087                             The American President\n",
       "11       11   12110                        Dracula: Dead and Loving It\n",
       "12       12   21032                                              Balto\n",
       "13       13   10858                                              Nixon\n",
       "14       14    1408                                   Cutthroat Island\n",
       "15       15     524                                             Casino\n",
       "16       16    4584                              Sense and Sensibility\n",
       "17       17       5                                         Four Rooms\n",
       "18       18    9273                     Ace Ventura: When Nature Calls\n",
       "19       19   11517                                        Money Train\n",
       "20       20    8012                                         Get Shorty\n",
       "21       21    1710                                            Copycat\n",
       "22       22    9691                                          Assassins\n",
       "23       23   12665                                             Powder\n",
       "24       24     451                                  Leaving Las Vegas\n",
       "25       25   16420                                            Othello\n",
       "26       26    9263                                       Now and Then\n",
       "27       27   17015                                         Persuasion\n",
       "28       28     902                          The City of Lost Children\n",
       "29       29   37557                                     Shanghai Triad\n",
       "...     ...     ...                                                ...\n",
       "9189  39963  384798                                       Kill Command\n",
       "9190  40019  291805                                   Now You See Me 2\n",
       "9191  40153   26677                                     The Video Dead\n",
       "9192  40206  308531   Teenage Mutant Ninja Turtles: Out of the Shadows\n",
       "9193  40231  341012                 Popstar: Never Stop Never Stopping\n",
       "9194  40265  259693                                    The Conjuring 2\n",
       "9195  40286  328429                            Approaching the Unknown\n",
       "9196  40317   43074                                       Ghostbusters\n",
       "9197  40392  302699                               Central Intelligence\n",
       "9198  40455  324668                                       Jason Bourne\n",
       "9199  40456  278348                                    The Maid's Room\n",
       "9200  40499  258489                               The Legend of Tarzan\n",
       "9201  40500  316727                           The Purge: Election Year\n",
       "9202  40501  316023                   Mike and Dave Need Wedding Dates\n",
       "9203  40512  177869                                Survive and Advance\n",
       "9204  40528  353571                                           Tallulah\n",
       "9205  40554  399106                                              Piper\n",
       "9206  40631  328387                                              Nerve\n",
       "9207  40688  368620                              My Friend Rockefeller\n",
       "9208  40717  401387                                          Sunspring\n",
       "9209  40787  373348                         Author: The JT LeRoy Story\n",
       "9210  40831  338766                                 Hell or High Water\n",
       "9211  40837  390734                      Kingsglaive: Final Fantasy XV\n",
       "9212  40920  314420                                               Body\n",
       "9213  40939  390989                       Sharknado 4: The 4th Awakens\n",
       "9214  40952  159550                     The Last Brickmaker in America\n",
       "9215  41172  392572                                             Rustom\n",
       "9216  41225  402672                                       Mohenjo Daro\n",
       "9217  41391  315011                                      Shin Godzilla\n",
       "9218  41669  391698  The Beatles: Eight Days a Week - The Touring Y...\n",
       "\n",
       "[9219 rows x 3 columns]"
      ]
     },
     "execution_count": 94,
     "metadata": {},
     "output_type": "execute_result"
    }
   ],
   "source": [
    "smd"
   ]
  },
  {
   "cell_type": "code",
   "execution_count": 95,
   "metadata": {},
   "outputs": [],
   "source": [
    "import pickle\n",
    "\n",
    "file = open('model_updated.pickle', 'wb')\n",
    "pickle.dump(cosine_sim, file)"
   ]
  },
  {
   "cell_type": "code",
   "execution_count": 97,
   "metadata": {},
   "outputs": [],
   "source": [
    "pickled2 = open(\"model_updated.pickle\", \"rb\")\n",
    "cosine = pickle.load(pickled2)"
   ]
  },
  {
   "cell_type": "code",
   "execution_count": 98,
   "metadata": {},
   "outputs": [
    {
     "data": {
      "text/plain": [
       "array([[ True,  True,  True, ...,  True,  True,  True],\n",
       "       [ True,  True,  True, ...,  True,  True,  True],\n",
       "       [ True,  True,  True, ...,  True,  True,  True],\n",
       "       ...,\n",
       "       [ True,  True,  True, ...,  True,  True,  True],\n",
       "       [ True,  True,  True, ...,  True,  True,  True],\n",
       "       [ True,  True,  True, ...,  True,  True,  True]])"
      ]
     },
     "execution_count": 98,
     "metadata": {},
     "output_type": "execute_result"
    }
   ],
   "source": [
    "cosine == cosine_sim"
   ]
  },
  {
   "cell_type": "code",
   "execution_count": 106,
   "metadata": {},
   "outputs": [
    {
     "ename": "ValueError",
     "evalue": "The truth value of an array with more than one element is ambiguous. Use a.any() or a.all()",
     "output_type": "error",
     "traceback": [
      "\u001b[0;31m---------------------------------------------------------------------------\u001b[0m",
      "\u001b[0;31mValueError\u001b[0m                                Traceback (most recent call last)",
      "\u001b[0;32m<ipython-input-106-ba719e67f4f9>\u001b[0m in \u001b[0;36m<module>\u001b[0;34m()\u001b[0m\n\u001b[0;32m----> 1\u001b[0;31m \u001b[0mget_recommendations\u001b[0m\u001b[0;34m(\u001b[0m\u001b[0;34m'Rush'\u001b[0m\u001b[0;34m)\u001b[0m\u001b[0;34m.\u001b[0m\u001b[0mhead\u001b[0m\u001b[0;34m(\u001b[0m\u001b[0;36m10\u001b[0m\u001b[0;34m)\u001b[0m\u001b[0;34m\u001b[0m\u001b[0m\n\u001b[0m",
      "\u001b[0;32m<ipython-input-86-79b01455b895>\u001b[0m in \u001b[0;36mget_recommendations\u001b[0;34m(title)\u001b[0m\n\u001b[1;32m      2\u001b[0m     \u001b[0midx\u001b[0m \u001b[0;34m=\u001b[0m \u001b[0mindices\u001b[0m\u001b[0;34m[\u001b[0m\u001b[0mtitle\u001b[0m\u001b[0;34m]\u001b[0m\u001b[0;34m\u001b[0m\u001b[0m\n\u001b[1;32m      3\u001b[0m     \u001b[0msim_scores\u001b[0m \u001b[0;34m=\u001b[0m \u001b[0mlist\u001b[0m\u001b[0;34m(\u001b[0m\u001b[0menumerate\u001b[0m\u001b[0;34m(\u001b[0m\u001b[0mcosine_sim\u001b[0m\u001b[0;34m[\u001b[0m\u001b[0midx\u001b[0m\u001b[0;34m]\u001b[0m\u001b[0;34m)\u001b[0m\u001b[0;34m)\u001b[0m\u001b[0;34m\u001b[0m\u001b[0m\n\u001b[0;32m----> 4\u001b[0;31m     \u001b[0msim_scores\u001b[0m \u001b[0;34m=\u001b[0m \u001b[0msorted\u001b[0m\u001b[0;34m(\u001b[0m\u001b[0msim_scores\u001b[0m\u001b[0;34m,\u001b[0m \u001b[0mkey\u001b[0m\u001b[0;34m=\u001b[0m\u001b[0;32mlambda\u001b[0m \u001b[0mx\u001b[0m\u001b[0;34m:\u001b[0m \u001b[0mx\u001b[0m\u001b[0;34m[\u001b[0m\u001b[0;36m1\u001b[0m\u001b[0;34m]\u001b[0m\u001b[0;34m,\u001b[0m \u001b[0mreverse\u001b[0m\u001b[0;34m=\u001b[0m\u001b[0;32mTrue\u001b[0m\u001b[0;34m)\u001b[0m\u001b[0;34m\u001b[0m\u001b[0m\n\u001b[0m\u001b[1;32m      5\u001b[0m     \u001b[0msim_scores\u001b[0m \u001b[0;34m=\u001b[0m \u001b[0msim_scores\u001b[0m\u001b[0;34m[\u001b[0m\u001b[0;36m1\u001b[0m\u001b[0;34m:\u001b[0m\u001b[0;36m31\u001b[0m\u001b[0;34m]\u001b[0m\u001b[0;34m\u001b[0m\u001b[0m\n\u001b[1;32m      6\u001b[0m     \u001b[0mmovie_indices\u001b[0m \u001b[0;34m=\u001b[0m \u001b[0;34m[\u001b[0m\u001b[0mi\u001b[0m\u001b[0;34m[\u001b[0m\u001b[0;36m0\u001b[0m\u001b[0;34m]\u001b[0m \u001b[0;32mfor\u001b[0m \u001b[0mi\u001b[0m \u001b[0;32min\u001b[0m \u001b[0msim_scores\u001b[0m\u001b[0;34m]\u001b[0m\u001b[0;34m\u001b[0m\u001b[0m\n",
      "\u001b[0;31mValueError\u001b[0m: The truth value of an array with more than one element is ambiguous. Use a.any() or a.all()"
     ]
    }
   ],
   "source": []
  },
  {
   "cell_type": "code",
   "execution_count": 103,
   "metadata": {},
   "outputs": [
    {
     "data": {
      "text/html": [
       "<div>\n",
       "<style scoped>\n",
       "    .dataframe tbody tr th:only-of-type {\n",
       "        vertical-align: middle;\n",
       "    }\n",
       "\n",
       "    .dataframe tbody tr th {\n",
       "        vertical-align: top;\n",
       "    }\n",
       "\n",
       "    .dataframe thead th {\n",
       "        text-align: right;\n",
       "    }\n",
       "</style>\n",
       "<table border=\"1\" class=\"dataframe\">\n",
       "  <thead>\n",
       "    <tr style=\"text-align: right;\">\n",
       "      <th></th>\n",
       "      <th>index</th>\n",
       "      <th>id</th>\n",
       "      <th>title</th>\n",
       "    </tr>\n",
       "  </thead>\n",
       "  <tbody>\n",
       "    <tr>\n",
       "      <th>5402</th>\n",
       "      <td>7713</td>\n",
       "      <td>20289</td>\n",
       "      <td>Rush</td>\n",
       "    </tr>\n",
       "    <tr>\n",
       "      <th>8493</th>\n",
       "      <td>21810</td>\n",
       "      <td>96721</td>\n",
       "      <td>Rush</td>\n",
       "    </tr>\n",
       "  </tbody>\n",
       "</table>\n",
       "</div>"
      ],
      "text/plain": [
       "      index     id title\n",
       "5402   7713  20289  Rush\n",
       "8493  21810  96721  Rush"
      ]
     },
     "execution_count": 103,
     "metadata": {},
     "output_type": "execute_result"
    }
   ],
   "source": [
    "smd[smd['title'] == 'Rush']"
   ]
  },
  {
   "cell_type": "code",
   "execution_count": 104,
   "metadata": {},
   "outputs": [],
   "source": [
    "smd = smd.drop(5402)"
   ]
  },
  {
   "cell_type": "code",
   "execution_count": 105,
   "metadata": {},
   "outputs": [
    {
     "data": {
      "text/html": [
       "<div>\n",
       "<style scoped>\n",
       "    .dataframe tbody tr th:only-of-type {\n",
       "        vertical-align: middle;\n",
       "    }\n",
       "\n",
       "    .dataframe tbody tr th {\n",
       "        vertical-align: top;\n",
       "    }\n",
       "\n",
       "    .dataframe thead th {\n",
       "        text-align: right;\n",
       "    }\n",
       "</style>\n",
       "<table border=\"1\" class=\"dataframe\">\n",
       "  <thead>\n",
       "    <tr style=\"text-align: right;\">\n",
       "      <th></th>\n",
       "      <th>index</th>\n",
       "      <th>id</th>\n",
       "      <th>title</th>\n",
       "    </tr>\n",
       "  </thead>\n",
       "  <tbody>\n",
       "    <tr>\n",
       "      <th>8493</th>\n",
       "      <td>21810</td>\n",
       "      <td>96721</td>\n",
       "      <td>Rush</td>\n",
       "    </tr>\n",
       "  </tbody>\n",
       "</table>\n",
       "</div>"
      ],
      "text/plain": [
       "      index     id title\n",
       "8493  21810  96721  Rush"
      ]
     },
     "execution_count": 105,
     "metadata": {},
     "output_type": "execute_result"
    }
   ],
   "source": [
    "smd[smd['title'] == 'Rush']"
   ]
  },
  {
   "cell_type": "code",
   "execution_count": 107,
   "metadata": {},
   "outputs": [],
   "source": [
    "smd = smd.reset_index()\n",
    "titles = smd['title']\n",
    "indices = pd.Series(smd.index, index=smd['title'])"
   ]
  },
  {
   "cell_type": "code",
   "execution_count": 108,
   "metadata": {},
   "outputs": [],
   "source": [
    "def get_recommendations(title):\n",
    "    idx = indices[title]\n",
    "    sim_scores = list(enumerate(cosine_sim[idx]))\n",
    "    sim_scores = sorted(sim_scores, key=lambda x: x[1], reverse=True)\n",
    "    sim_scores = sim_scores[1:31]\n",
    "    movie_indices = [i[0] for i in sim_scores]\n",
    "    return titles.iloc[movie_indices]"
   ]
  },
  {
   "cell_type": "code",
   "execution_count": 117,
   "metadata": {},
   "outputs": [
    {
     "data": {
      "text/plain": [
       "3493                                        Scary Movie 2\n",
       "6532                                     End of the Spear\n",
       "3041                                          Scary Movie\n",
       "3271                              I'm Gonna Git You Sucka\n",
       "349                                A Low Down Dirty Shame\n",
       "59      Don't Be a Menace to South Central While Drink...\n",
       "7838                                                Super\n",
       "334                   The Naked Gun 33⅓: The Final Insult\n",
       "1390                                            Senseless\n",
       "4054                                           Stir Crazy\n",
       "Name: title, dtype: object"
      ]
     },
     "execution_count": 117,
     "metadata": {},
     "output_type": "execute_result"
    }
   ],
   "source": [
    "get_recommendations('').head(10)"
   ]
  },
  {
   "cell_type": "code",
   "execution_count": 110,
   "metadata": {},
   "outputs": [
    {
     "data": {
      "text/html": [
       "<div>\n",
       "<style scoped>\n",
       "    .dataframe tbody tr th:only-of-type {\n",
       "        vertical-align: middle;\n",
       "    }\n",
       "\n",
       "    .dataframe tbody tr th {\n",
       "        vertical-align: top;\n",
       "    }\n",
       "\n",
       "    .dataframe thead th {\n",
       "        text-align: right;\n",
       "    }\n",
       "</style>\n",
       "<table border=\"1\" class=\"dataframe\">\n",
       "  <thead>\n",
       "    <tr style=\"text-align: right;\">\n",
       "      <th></th>\n",
       "      <th>adult</th>\n",
       "      <th>belongs_to_collection</th>\n",
       "      <th>budget</th>\n",
       "      <th>genres</th>\n",
       "      <th>homepage</th>\n",
       "      <th>id</th>\n",
       "      <th>imdb_id</th>\n",
       "      <th>original_language</th>\n",
       "      <th>original_title</th>\n",
       "      <th>overview</th>\n",
       "      <th>...</th>\n",
       "      <th>status</th>\n",
       "      <th>tagline</th>\n",
       "      <th>title</th>\n",
       "      <th>video</th>\n",
       "      <th>vote_average</th>\n",
       "      <th>vote_count</th>\n",
       "      <th>year</th>\n",
       "      <th>cast</th>\n",
       "      <th>crew</th>\n",
       "      <th>keywords</th>\n",
       "    </tr>\n",
       "  </thead>\n",
       "  <tbody>\n",
       "    <tr>\n",
       "      <th>7713</th>\n",
       "      <td>False</td>\n",
       "      <td>NaN</td>\n",
       "      <td>0</td>\n",
       "      <td>[Crime, Drama]</td>\n",
       "      <td>NaN</td>\n",
       "      <td>20289</td>\n",
       "      <td>tt0102820</td>\n",
       "      <td>en</td>\n",
       "      <td>Rush</td>\n",
       "      <td>Undercover cop Jim Raynor (Jason Patric) is a ...</td>\n",
       "      <td>...</td>\n",
       "      <td>Released</td>\n",
       "      <td>How far do they go before they've gone too far?</td>\n",
       "      <td>Rush</td>\n",
       "      <td>False</td>\n",
       "      <td>6.9</td>\n",
       "      <td>43.0</td>\n",
       "      <td>1991</td>\n",
       "      <td>[{'cast_id': 1, 'character': 'Jim Raynor', 'cr...</td>\n",
       "      <td>[{'credit_id': '52fe43dfc3a368484e003237', 'de...</td>\n",
       "      <td>[{'id': 572, 'name': 'sex'}, {'id': 1556, 'nam...</td>\n",
       "    </tr>\n",
       "    <tr>\n",
       "      <th>21810</th>\n",
       "      <td>False</td>\n",
       "      <td>NaN</td>\n",
       "      <td>38000000</td>\n",
       "      <td>[Drama, Action]</td>\n",
       "      <td>NaN</td>\n",
       "      <td>96721</td>\n",
       "      <td>tt1979320</td>\n",
       "      <td>en</td>\n",
       "      <td>Rush</td>\n",
       "      <td>A biographical drama centered on the rivalry b...</td>\n",
       "      <td>...</td>\n",
       "      <td>Released</td>\n",
       "      <td>Everyone's driven by something.</td>\n",
       "      <td>Rush</td>\n",
       "      <td>False</td>\n",
       "      <td>7.7</td>\n",
       "      <td>2310.0</td>\n",
       "      <td>2013</td>\n",
       "      <td>[{'cast_id': 2, 'character': 'Niki Lauda', 'cr...</td>\n",
       "      <td>[{'credit_id': '52fe49bf9251416c750d20f1', 'de...</td>\n",
       "      <td>[{'id': 5378, 'name': 'world champion'}, {'id'...</td>\n",
       "    </tr>\n",
       "  </tbody>\n",
       "</table>\n",
       "<p>2 rows × 28 columns</p>\n",
       "</div>"
      ],
      "text/plain": [
       "       adult belongs_to_collection    budget           genres homepage     id  \\\n",
       "7713   False                   NaN         0   [Crime, Drama]      NaN  20289   \n",
       "21810  False                   NaN  38000000  [Drama, Action]      NaN  96721   \n",
       "\n",
       "         imdb_id original_language original_title  \\\n",
       "7713   tt0102820                en           Rush   \n",
       "21810  tt1979320                en           Rush   \n",
       "\n",
       "                                                overview  \\\n",
       "7713   Undercover cop Jim Raynor (Jason Patric) is a ...   \n",
       "21810  A biographical drama centered on the rivalry b...   \n",
       "\n",
       "                             ...                            status  \\\n",
       "7713                         ...                          Released   \n",
       "21810                        ...                          Released   \n",
       "\n",
       "                                               tagline title  video  \\\n",
       "7713   How far do they go before they've gone too far?  Rush  False   \n",
       "21810                  Everyone's driven by something.  Rush  False   \n",
       "\n",
       "      vote_average  vote_count  year  \\\n",
       "7713           6.9        43.0  1991   \n",
       "21810          7.7      2310.0  2013   \n",
       "\n",
       "                                                    cast  \\\n",
       "7713   [{'cast_id': 1, 'character': 'Jim Raynor', 'cr...   \n",
       "21810  [{'cast_id': 2, 'character': 'Niki Lauda', 'cr...   \n",
       "\n",
       "                                                    crew  \\\n",
       "7713   [{'credit_id': '52fe43dfc3a368484e003237', 'de...   \n",
       "21810  [{'credit_id': '52fe49bf9251416c750d20f1', 'de...   \n",
       "\n",
       "                                                keywords  \n",
       "7713   [{'id': 572, 'name': 'sex'}, {'id': 1556, 'nam...  \n",
       "21810  [{'id': 5378, 'name': 'world champion'}, {'id'...  \n",
       "\n",
       "[2 rows x 28 columns]"
      ]
     },
     "execution_count": 110,
     "metadata": {},
     "output_type": "execute_result"
    }
   ],
   "source": [
    "md[md['title'] == 'Rush']"
   ]
  },
  {
   "cell_type": "code",
   "execution_count": null,
   "metadata": {},
   "outputs": [],
   "source": []
  }
 ],
 "metadata": {
  "kernelspec": {
   "display_name": "Python 3",
   "language": "python",
   "name": "python3"
  },
  "language_info": {
   "codemirror_mode": {
    "name": "ipython",
    "version": 3
   },
   "file_extension": ".py",
   "mimetype": "text/x-python",
   "name": "python",
   "nbconvert_exporter": "python",
   "pygments_lexer": "ipython3",
   "version": "3.7.4"
  }
 },
 "nbformat": 4,
 "nbformat_minor": 4
}
